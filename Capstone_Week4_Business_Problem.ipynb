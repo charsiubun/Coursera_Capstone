{
 "cells": [
  {
   "cell_type": "markdown",
   "metadata": {},
   "source": [
    "# Introduction"
   ]
  },
  {
   "cell_type": "markdown",
   "metadata": {},
   "source": [
    "This project aims to assist families in exploring amenities around their neighbourhood.  In particular, it focuses on the diverse borough of Etobicoke in Toronto, Canada.\n",
    "\n",
    "Canada and especially Toronto, has been attracting many immigrants from all over the world.  Especially families who are searching for larger housing, reputable schools and green space.  In addition to essential facilities, this project also aims to highlight the accessibility of amenities, such as restaurants, supermarkets, pharmacies, cinemas etc.\n",
    "\n",
    "The outcome should be a thorough analysis of the various elements which make a good neighbourhood and how it compares and contracts against other ones.  Features to be reviewed could include median housing price and school ratings, crime rates, transport and recreational facilities, such as playgrounds and parks."
   ]
  },
  {
   "cell_type": "code",
   "execution_count": null,
   "metadata": {},
   "outputs": [],
   "source": []
  },
  {
   "cell_type": "markdown",
   "metadata": {},
   "source": [
    "# Purpose and Audience"
   ]
  },
  {
   "cell_type": "markdown",
   "metadata": {},
   "source": [
    "This project aims to provide a deeper understanding of a neighbourhood which a family is looking to move into.  By presenting various factors, such as access to educational institutions, transportation modes, recreational amenities and other daily necessities, it should enable to the family to make an informed decision on where to settle.  \n",
    "\n",
    "These factors should also be contrasting against housing prices in order for the family to strike a balance between affordability and convenience." "\n",
    "The audience could range from individuals looking to relocate, to larger households looking for the right place to settle down.  All in all, there are different variables and the audience can decide how to weigh certain factors."
   ]
  },
  {
   "cell_type": "code",
   "execution_count": null,
   "metadata": {},
   "outputs": [],
   "source": []
  },
  {
   "cell_type": "markdown",
   "metadata": {},
   "source": [
    "# The Location"
   ]
  },
  {
   "cell_type": "markdown",
   "metadata": {},
   "source": [
    "Etobicoke has a highly diversified population. It is primarily suburban in development and heavily industrialized, resulting in a lower population density than the other districts of Toronto. Much of its cityscape is characterized by larger main streets, shopping malls, and cul-de-sac housing developments.Etobicoke's central areas are generally middle class. The central and northern areas of \n",
    "\n",
    "Etobicoke have many high-density apartment complexes set in the middle of sizable, open fields and parks. The central/southern areas, such as Markland Wood, The Kingsway, New Toronto, Mimico and Long Branch, have large green spaces, many parks, and main street shopping areas. The Kingsway neighbourhood has attracted many affluent individuals and families. \n",
    "\n",
    "Etobicoke has many public parks, including James Gardens on the banks of the Humber River. The park includes seasonal flowers, walkways, a rock garden, streams, and waterfalls. It is a popular site for taking wedding photographs. Etobicoke also has Centennial Park, a large recreational park and Colonel Samuel Smith Park and Humber Bay Park on the lakeshore."
   ]
  },
  {
   "cell_type": "code",
   "execution_count": null,
   "metadata": {},
   "outputs": [],
   "source": []
  },
  {
   "cell_type": "markdown",
   "metadata": {},
   "source": [
    "# Foursquare API"
   ]
  },
  {
   "cell_type": "markdown",
   "metadata": {},
   "source": [
    "We will be using the Foursquare API, in particular the Places API to obtain data on the various venues and places in the Etobicoke borough.\n",
    "\n",
    "Credentials of a free developer Foursquare API account will be used to connect through the API.  Due to request limitations of the free account, we will restrict the number of places to 100 and the radius parameter to 500."
   ]
  },
  {
   "cell_type": "code",
   "execution_count": null,
   "metadata": {},
   "outputs": [],
   "source": []
  },
  {
   "cell_type": "markdown",
   "metadata": {},
   "source": [
    "# Clustering"
   ]
  },
  {
   "cell_type": "markdown",
   "metadata": {},
   "source": [
    "In order to compare similarities of different cities, the clustering approach is required.  A form of unsupervised machine learning called k-means clustering algorithm is therefore used."
   ]
  },
  {
   "cell_type": "code",
   "execution_count": null,
   "metadata": {},
   "outputs": [],
   "source": []
  },
  {
   "cell_type": "markdown",
   "metadata": {},
   "source": [
    "# Project Libraries"
   ]
  },
  {
   "cell_type": "markdown",
   "metadata": {},
   "source": [
    "- Pandas: Creating and manipulating data frames.\n",
    "- Beautiful Soup: Parsing and handling of http requests.\n",
    "- Folium: Python visualization library via interactive mapping.\n",
    "- Scikit Learn: Importing k-means clustering.\n",
    "- JSON: Handling of JSON files.\n",
    "- XML: Separate data from presentation and XML stores data in plain text format.\n",
    "- Geocoder: Retrieving location data.\n",
    "- Matplotlib: Plotting module."
   ]
  }
 ],
 "metadata": {
  "kernelspec": {
   "display_name": "Python 3",
   "language": "python",
   "name": "python3"
  },
  "language_info": {
   "codemirror_mode": {
    "name": "ipython",
    "version": 3
   },
   "file_extension": ".py",
   "mimetype": "text/x-python",
   "name": "python",
   "nbconvert_exporter": "python",
   "pygments_lexer": "ipython3",
   "version": "3.8.2"
  }
 },
 "nbformat": 4,
 "nbformat_minor": 4
}
